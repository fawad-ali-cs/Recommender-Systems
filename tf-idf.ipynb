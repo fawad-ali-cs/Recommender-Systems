{
 "cells": [
  {
   "cell_type": "code",
   "execution_count": 25,
   "metadata": {},
   "outputs": [],
   "source": [
    "import pandas as pd\n",
    "import numpy as np\n",
    "from sklearn.metrics.pairwise import cosine_similarity\n",
    "import matplotlib.pyplot as plt\n",
    "\n",
    "from functions import train_test, RMSE_list"
   ]
  },
  {
   "cell_type": "code",
   "execution_count": 2,
   "metadata": {},
   "outputs": [],
   "source": [
    "def tf_idf(ratings, movies, genre_list):\n",
    "    total_documents = len(movies)\n",
    "    \n",
    "    occurence_count = {}\n",
    "    for genre in genre_list:\n",
    "        occurence_count[genre] = 0\n",
    "\n",
    "    for index, row in movies.iterrows():    \n",
    "        genres = row['genres'].split('|')\n",
    "\n",
    "        for genre in genres:\n",
    "            occurence_count[genre] += 1\n",
    "\n",
    "    idf = np.log2(total_documents/pd.Series(occurence_count))\n",
    "    \n",
    "    tf_idf_data = {}\n",
    "    for index, row in movies.iterrows():\n",
    "        tf_idf_vector = []\n",
    "        \n",
    "        total_terms = row['genres'].count('|') + 1\n",
    "        \n",
    "        for genre in genre_list:\n",
    "            if genre in row['genres']:\n",
    "                TF = 1/total_terms\n",
    "            else:\n",
    "                TF = 0\n",
    "            \n",
    "            tf_idf_vector.append(TF)\n",
    "        \n",
    "        tf_idf_data[row['movieId']] = tf_idf_vector\n",
    "        \n",
    "    tf_idf_df = pd.DataFrame(tf_idf_data, index=genre_list)\n",
    "    \n",
    "    tf_idf_df = tf_idf_df.T*idf\n",
    "    \n",
    "    return tf_idf_df"
   ]
  },
  {
   "cell_type": "code",
   "execution_count": 3,
   "metadata": {},
   "outputs": [],
   "source": [
    "def tf_idf_predict(tf_idf_df, ratings, movies, values, k=5):\n",
    "    movie_index = tf_idf_df.index\n",
    "    sim = cosine_similarity(tf_idf_df)\n",
    "    np.fill_diagonal(sim, -1)\n",
    "    \n",
    "    sim = pd.DataFrame(sim, index=movie_index, columns=movie_index)\n",
    "    \n",
    "    known_items = []\n",
    "    top_sim = {}\n",
    "    \n",
    "    for u,i in values:\n",
    "        if i not in known_items:\n",
    "            known_items.append(i)\n",
    "            top_sim[i] = list(sim.loc[int(i),:].sort_values(ascending=False)[:k].index.astype(str))\n",
    "    \n",
    "    \n",
    "    predictions = []\n",
    "    \n",
    "    for u,i in values:\n",
    "        row = ratings.loc[u,:]\n",
    "        #known_index = row[row > 0].index.astype('int')\n",
    "        \n",
    "        sim_values = row.loc[top_sim[i]]\n",
    "        sim_index = sim_values[sim_values > 0].index\n",
    "    \n",
    "        rating_predict = 0\n",
    "        total_sim = 0\n",
    "        \n",
    "        if len(sim_index) != 0:\n",
    "            for ind in sim_index:\n",
    "                rating_predict += sim.loc[int(i), int(ind)]*ratings.loc[u, ind]\n",
    "                total_sim += sim.loc[int(i), int(ind)]\n",
    "            \n",
    "            if total_sim != 0:\n",
    "                rating_predict /= total_sim\n",
    "            else:\n",
    "                rating_predict = row[row>0].mean()\n",
    "            \n",
    "        else:\n",
    "            rating_predict = row[row>0].mean()\n",
    "            \n",
    "        predictions.append(rating_predict)\n",
    "    \n",
    "    return predictions"
   ]
  },
  {
   "cell_type": "code",
   "execution_count": 4,
   "metadata": {},
   "outputs": [],
   "source": [
    "movies = pd.read_csv('ml-latest-small/movies.csv')\n",
    "ratings_df = pd.read_csv('data/user_rating_pt.csv')\n",
    "\n",
    "columns = ratings_df.columns\n",
    "movies=movies[movies['movieId'].isin(columns)]"
   ]
  },
  {
   "cell_type": "code",
   "execution_count": 5,
   "metadata": {},
   "outputs": [],
   "source": [
    "genre_list = []\n",
    "\n",
    "for index, row in movies.iterrows():\n",
    "    genres = row['genres'].split('|')\n",
    "    \n",
    "    for g in genres:\n",
    "        if g not in genre_list:\n",
    "            genre_list.append(g)"
   ]
  },
  {
   "cell_type": "code",
   "execution_count": 6,
   "metadata": {},
   "outputs": [],
   "source": [
    "known = []\n",
    "\n",
    "columns = list(ratings_df.columns)\n",
    "index = list(ratings_df.index)\n",
    "\n",
    "for u in index:\n",
    "    for i in columns:\n",
    "        if ratings_df.loc[u,i] > 0:\n",
    "            known.append((u, i))"
   ]
  },
  {
   "cell_type": "code",
   "execution_count": 7,
   "metadata": {},
   "outputs": [],
   "source": [
    "training, testing = train_test(known)"
   ]
  },
  {
   "cell_type": "code",
   "execution_count": 8,
   "metadata": {},
   "outputs": [],
   "source": [
    "ratings_training = ratings_df.copy()\n",
    "\n",
    "for u,i in testing:\n",
    "    ratings_training.loc[u,i] = 0"
   ]
  },
  {
   "cell_type": "code",
   "execution_count": 9,
   "metadata": {},
   "outputs": [],
   "source": [
    "test_ratings = []\n",
    "for u,i in testing:\n",
    "    test_ratings.append(ratings_df.loc[u,i])"
   ]
  },
  {
   "cell_type": "code",
   "execution_count": 10,
   "metadata": {},
   "outputs": [],
   "source": [
    "tf_idf_df = tf_idf(ratings_training, movies, genre_list)"
   ]
  },
  {
   "cell_type": "code",
   "execution_count": 14,
   "metadata": {},
   "outputs": [],
   "source": [
    "rating_pred=tf_idf_predict(tf_idf_df, ratings_training, movies, testing, k=750)"
   ]
  },
  {
   "cell_type": "code",
   "execution_count": 15,
   "metadata": {},
   "outputs": [
    {
     "data": {
      "text/plain": [
       "0.9315313764240876"
      ]
     },
     "execution_count": 15,
     "metadata": {},
     "output_type": "execute_result"
    }
   ],
   "source": [
    "RMSE_list(rating_pred, test_ratings)"
   ]
  },
  {
   "cell_type": "code",
   "execution_count": 16,
   "metadata": {},
   "outputs": [],
   "source": [
    "RSME_values = {}\n",
    "k_values = [25, 50, 100, 250]\n",
    "\n",
    "for k_val in k_values:\n",
    "    rating_pred = tf_idf_predict(tf_idf_df, ratings_training, movies, testing, k=k_val)\n",
    "    \n",
    "    RSME_values[k_val] = RMSE_list(rating_pred, test_ratings)\n",
    "    "
   ]
  },
  {
   "cell_type": "code",
   "execution_count": 21,
   "metadata": {},
   "outputs": [
    {
     "data": {
      "text/plain": [
       "{25: 1.0255994943801325,\n",
       " 50: 1.0117856756051884,\n",
       " 100: 0.9918504581997731,\n",
       " 250: 0.9601775563905309,\n",
       " 350: 0.9472762683587674,\n",
       " 500: 0.937386051902938,\n",
       " 750: 0.9315313764240876,\n",
       " 1000: 0.9257222203915612,\n",
       " 1500: 0.9172465647427535}"
      ]
     },
     "execution_count": 21,
     "metadata": {},
     "output_type": "execute_result"
    }
   ],
   "source": [
    "RSME_values"
   ]
  },
  {
   "cell_type": "code",
   "execution_count": 18,
   "metadata": {},
   "outputs": [
    {
     "name": "stdout",
     "output_type": "stream",
     "text": [
      "350\n",
      "500\n",
      "750\n"
     ]
    }
   ],
   "source": [
    "k_values2 = [350, 500, 750]\n",
    "\n",
    "for k_val in k_values2:\n",
    "    rating_pred = tf_idf_predict(tf_idf_df, ratings_training, movies, testing, k=k_val)\n",
    "    \n",
    "    RSME_values[k_val] = RMSE_list(rating_pred, test_ratings)\n",
    "    print(k_val)"
   ]
  },
  {
   "cell_type": "code",
   "execution_count": 20,
   "metadata": {},
   "outputs": [
    {
     "name": "stdout",
     "output_type": "stream",
     "text": [
      "1000\n",
      "1500\n"
     ]
    }
   ],
   "source": [
    "k_values3 = [1000, 1500]\n",
    "\n",
    "for k_val in k_values3:\n",
    "    rating_pred = tf_idf_predict(tf_idf_df, ratings_training, movies, testing, k=k_val)\n",
    "    \n",
    "    RSME_values[k_val] = RMSE_list(rating_pred, test_ratings)\n",
    "    print(k_val)"
   ]
  },
  {
   "cell_type": "code",
   "execution_count": 24,
   "metadata": {},
   "outputs": [
    {
     "data": {
      "text/html": [
       "<div>\n",
       "<style scoped>\n",
       "    .dataframe tbody tr th:only-of-type {\n",
       "        vertical-align: middle;\n",
       "    }\n",
       "\n",
       "    .dataframe tbody tr th {\n",
       "        vertical-align: top;\n",
       "    }\n",
       "\n",
       "    .dataframe thead th {\n",
       "        text-align: right;\n",
       "    }\n",
       "</style>\n",
       "<table border=\"1\" class=\"dataframe\">\n",
       "  <thead>\n",
       "    <tr style=\"text-align: right;\">\n",
       "      <th></th>\n",
       "      <th>0</th>\n",
       "    </tr>\n",
       "  </thead>\n",
       "  <tbody>\n",
       "    <tr>\n",
       "      <th>25</th>\n",
       "      <td>1.025599</td>\n",
       "    </tr>\n",
       "    <tr>\n",
       "      <th>50</th>\n",
       "      <td>1.011786</td>\n",
       "    </tr>\n",
       "    <tr>\n",
       "      <th>100</th>\n",
       "      <td>0.991850</td>\n",
       "    </tr>\n",
       "    <tr>\n",
       "      <th>250</th>\n",
       "      <td>0.960178</td>\n",
       "    </tr>\n",
       "    <tr>\n",
       "      <th>350</th>\n",
       "      <td>0.947276</td>\n",
       "    </tr>\n",
       "    <tr>\n",
       "      <th>500</th>\n",
       "      <td>0.937386</td>\n",
       "    </tr>\n",
       "    <tr>\n",
       "      <th>750</th>\n",
       "      <td>0.931531</td>\n",
       "    </tr>\n",
       "    <tr>\n",
       "      <th>1000</th>\n",
       "      <td>0.925722</td>\n",
       "    </tr>\n",
       "    <tr>\n",
       "      <th>1500</th>\n",
       "      <td>0.917247</td>\n",
       "    </tr>\n",
       "  </tbody>\n",
       "</table>\n",
       "</div>"
      ],
      "text/plain": [
       "             0\n",
       "25    1.025599\n",
       "50    1.011786\n",
       "100   0.991850\n",
       "250   0.960178\n",
       "350   0.947276\n",
       "500   0.937386\n",
       "750   0.931531\n",
       "1000  0.925722\n",
       "1500  0.917247"
      ]
     },
     "execution_count": 24,
     "metadata": {},
     "output_type": "execute_result"
    }
   ],
   "source": [
    "RSME_df = pd.DataFrame(RSME_values, index=[0]).T\n",
    "RSME_df"
   ]
  },
  {
   "cell_type": "code",
   "execution_count": 32,
   "metadata": {},
   "outputs": [
    {
     "data": {
      "image/png": "[encoded data removed]",
      "text/plain": [
       "<Figure size 432x288 with 1 Axes>"
      ]
     },
     "metadata": {
      "needs_background": "light"
     },
     "output_type": "display_data"
    }
   ],
   "source": [
    "plt.plot(RSME_df.index, RSME_df[0], color='green')\n",
    "\n",
    "plt.title(\"TF-IDF\", size=12)\n",
    "plt.xlabel(\"K Value\", size=12)\n",
    "plt.ylabel(\"RMSE\", size=12)\n",
    "\n",
    "plt.show()"
   ]
  },
  {
   "cell_type": "code",
   "execution_count": null,
   "metadata": {},
   "outputs": [],
   "source": []
  }
 ],
 "metadata": {
  "kernelspec": {
   "display_name": "Python 3",
   "language": "python",
   "name": "python3"
  },
  "language_info": {
   "codemirror_mode": {
    "name": "ipython",
    "version": 3
   },
   "file_extension": ".py",
   "mimetype": "text/x-python",
   "name": "python",
   "nbconvert_exporter": "python",
   "pygments_lexer": "ipython3",
   "version": "3.8.3"
  }
 },
 "nbformat": 4,
 "nbformat_minor": 4
}
