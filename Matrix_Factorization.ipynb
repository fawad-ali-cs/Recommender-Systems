{
 "cells": [
  {
   "cell_type": "code",
   "execution_count": 54,
   "metadata": {},
   "outputs": [],
   "source": [
    "import pandas as pd\n",
    "import numpy as np\n",
    "import matplotlib.pyplot as plt\n",
    "\n",
    "from functions import train_test, RMSE, MAE\n",
    "from matrix_factorization import basic_MF, bias_MF"
   ]
  },
  {
   "cell_type": "code",
   "execution_count": 2,
   "metadata": {},
   "outputs": [],
   "source": [
    "rating_df = pd.read_csv('data/user_rating.csv')"
   ]
  },
  {
   "cell_type": "code",
   "execution_count": 3,
   "metadata": {},
   "outputs": [],
   "source": [
    "R = np.array(rating_df)"
   ]
  },
  {
   "cell_type": "code",
   "execution_count": 4,
   "metadata": {},
   "outputs": [],
   "source": [
    "known = []\n",
    "for u in range(R.shape[0]):\n",
    "    for i in range(R.shape[1]):\n",
    "        if R[u,i] > 0:\n",
    "            known.append((u, i))"
   ]
  },
  {
   "cell_type": "code",
   "execution_count": 6,
   "metadata": {},
   "outputs": [],
   "source": [
    "training, testing = train_test(known)"
   ]
  },
  {
   "cell_type": "code",
   "execution_count": 27,
   "metadata": {},
   "outputs": [],
   "source": [
    "basic_results = {'reg': [],\n",
    "                'features': [],\n",
    "                'RMSE': []}\n",
    "\n",
    "features = [5, 10, 12, 15, 20, 25]"
   ]
  },
  {
   "cell_type": "code",
   "execution_count": 28,
   "metadata": {},
   "outputs": [],
   "source": [
    "reg_value = 0.1\n",
    "\n",
    "for f in features:\n",
    "    P, Q = basic_MF(R, training, latent_features=f, reg=reg_value, steps = 75)\n",
    "    R_pred = np.dot(P,Q.T)\n",
    "        \n",
    "    basic_results['reg'].append(reg_value)\n",
    "    basic_results['features'].append(f)\n",
    "    basic_results['RMSE'].append(RMSE(R, R_pred, testing))"
   ]
  },
  {
   "cell_type": "code",
   "execution_count": 31,
   "metadata": {},
   "outputs": [],
   "source": [
    "reg_value = 0.15\n",
    "\n",
    "for f in features:\n",
    "    P, Q = basic_MF(R, training, latent_features=f, reg=reg_value, steps = 75)\n",
    "    R_pred = np.dot(P,Q.T)\n",
    "        \n",
    "    basic_results['reg'].append(reg_value)\n",
    "    basic_results['features'].append(f)\n",
    "    basic_results['RMSE'].append(RMSE(R, R_pred, testing))"
   ]
  },
  {
   "cell_type": "code",
   "execution_count": 32,
   "metadata": {},
   "outputs": [],
   "source": [
    "reg_value = 0.2\n",
    "\n",
    "for f in features:\n",
    "    P, Q = basic_MF(R, training, latent_features=f, reg=reg_value, steps = 75)\n",
    "    R_pred = np.dot(P,Q.T)\n",
    "        \n",
    "    basic_results['reg'].append(reg_value)\n",
    "    basic_results['features'].append(f)\n",
    "    basic_results['RMSE'].append(RMSE(R, R_pred, testing))"
   ]
  },
  {
   "cell_type": "code",
   "execution_count": 33,
   "metadata": {},
   "outputs": [],
   "source": [
    "basic_results_df = pd.DataFrame(basic_results)"
   ]
  },
  {
   "cell_type": "code",
   "execution_count": 34,
   "metadata": {},
   "outputs": [
    {
     "data": {
      "text/html": [
       "<div>\n",
       "<style scoped>\n",
       "    .dataframe tbody tr th:only-of-type {\n",
       "        vertical-align: middle;\n",
       "    }\n",
       "\n",
       "    .dataframe tbody tr th {\n",
       "        vertical-align: top;\n",
       "    }\n",
       "\n",
       "    .dataframe thead th {\n",
       "        text-align: right;\n",
       "    }\n",
       "</style>\n",
       "<table border=\"1\" class=\"dataframe\">\n",
       "  <thead>\n",
       "    <tr style=\"text-align: right;\">\n",
       "      <th>features</th>\n",
       "      <th>5</th>\n",
       "      <th>10</th>\n",
       "      <th>12</th>\n",
       "      <th>15</th>\n",
       "      <th>20</th>\n",
       "      <th>25</th>\n",
       "    </tr>\n",
       "    <tr>\n",
       "      <th>reg</th>\n",
       "      <th></th>\n",
       "      <th></th>\n",
       "      <th></th>\n",
       "      <th></th>\n",
       "      <th></th>\n",
       "      <th></th>\n",
       "    </tr>\n",
       "  </thead>\n",
       "  <tbody>\n",
       "    <tr>\n",
       "      <th>0.10</th>\n",
       "      <td>0.932758</td>\n",
       "      <td>0.901074</td>\n",
       "      <td>0.901615</td>\n",
       "      <td>0.895426</td>\n",
       "      <td>0.899751</td>\n",
       "      <td>0.906025</td>\n",
       "    </tr>\n",
       "    <tr>\n",
       "      <th>0.15</th>\n",
       "      <td>0.936589</td>\n",
       "      <td>0.903726</td>\n",
       "      <td>0.897487</td>\n",
       "      <td>0.896855</td>\n",
       "      <td>0.901222</td>\n",
       "      <td>0.919514</td>\n",
       "    </tr>\n",
       "    <tr>\n",
       "      <th>0.20</th>\n",
       "      <td>0.949668</td>\n",
       "      <td>0.916292</td>\n",
       "      <td>0.910579</td>\n",
       "      <td>0.910535</td>\n",
       "      <td>0.915250</td>\n",
       "      <td>0.931300</td>\n",
       "    </tr>\n",
       "  </tbody>\n",
       "</table>\n",
       "</div>"
      ],
      "text/plain": [
       "features        5         10        12        15        20        25\n",
       "reg                                                                 \n",
       "0.10      0.932758  0.901074  0.901615  0.895426  0.899751  0.906025\n",
       "0.15      0.936589  0.903726  0.897487  0.896855  0.901222  0.919514\n",
       "0.20      0.949668  0.916292  0.910579  0.910535  0.915250  0.931300"
      ]
     },
     "execution_count": 34,
     "metadata": {},
     "output_type": "execute_result"
    }
   ],
   "source": [
    "basic_results_df.pivot_table(index='reg', columns='features', values='RMSE')"
   ]
  },
  {
   "cell_type": "code",
   "execution_count": 81,
   "metadata": {},
   "outputs": [
    {
     "data": {
      "image/png": "[encoded data removed]",
      "text/plain": [
       "<Figure size 432x288 with 1 Axes>"
      ]
     },
     "metadata": {
      "needs_background": "light"
     },
     "output_type": "display_data"
    }
   ],
   "source": [
    "reg_values = basic_results_df['reg'].unique()\n",
    "feature_values = basic_results_df['features'].unique()\n",
    "\n",
    "for reg in reg_values:\n",
    "    data = basic_results_df[basic_results_df['reg'] == reg]\n",
    "\n",
    "    plt.plot(data['features'], data['RMSE'], label=reg)\n",
    "    \n",
    "plt.legend( title='Regularization Term')\n",
    "\n",
    "plt.title('Basic Matrix Factorization Results')\n",
    "plt.xlabel('Latent Features', size=12)\n",
    "plt.ylabel('Root Mean Squared Error')\n",
    "\n",
    "plt.xticks(np.arange(min(feature_values), max(feature_values)+1, 5.0))\n",
    "\n",
    "plt.show()"
   ]
  },
  {
   "cell_type": "code",
   "execution_count": 82,
   "metadata": {},
   "outputs": [],
   "source": [
    "bais_results = {'reg': [],\n",
    "                'features': [],\n",
    "                'RMSE': []}\n",
    "\n",
    "features = [5, 25, 50, 100, 150, 200]"
   ]
  },
  {
   "cell_type": "code",
   "execution_count": 111,
   "metadata": {},
   "outputs": [],
   "source": [
    "reg_value = 0.1\n",
    "\n",
    "for f in features:\n",
    "    P, Q, avg_rating, bias_user, bias_movie = bias_MF(R, training, steps=100, latent_features=f, reg=reg_value)\n",
    "    R_pred = np.dot(P,Q.T) + avg_rating + bias_user.reshape(-1,1) + bias_movie.reshape(1,-1)\n",
    "        \n",
    "    bais_results['reg'].append(reg_value)\n",
    "    bais_results['features'].append(f)\n",
    "    bais_results['RMSE'].append(RMSE(R, R_pred, testing))"
   ]
  },
  {
   "cell_type": "code",
   "execution_count": 96,
   "metadata": {},
   "outputs": [],
   "source": [
    "reg_value = 0.15\n",
    "\n",
    "for f in features:\n",
    "    P, Q, avg_rating, bias_user, bias_movie = bias_MF(R, training, steps=100, latent_features=f, reg=reg_value)\n",
    "    R_pred = np.dot(P,Q.T) + avg_rating + bias_user.reshape(-1,1) + bias_movie.reshape(1,-1)\n",
    "        \n",
    "    bais_results['reg'].append(reg_value)\n",
    "    bais_results['features'].append(f)\n",
    "    bais_results['RMSE'].append(RMSE(R, R_pred, testing))"
   ]
  },
  {
   "cell_type": "code",
   "execution_count": 99,
   "metadata": {},
   "outputs": [],
   "source": [
    "reg_value = 0.2\n",
    "\n",
    "for f in features:\n",
    "    P, Q, avg_rating, bias_user, bias_movie = bias_MF(R, training, steps=100, latent_features=f, reg=reg_value)\n",
    "    R_pred = np.dot(P,Q.T) + avg_rating + bias_user.reshape(-1,1) + bias_movie.reshape(1,-1)\n",
    "        \n",
    "    bais_results['reg'].append(reg_value)\n",
    "    bais_results['features'].append(f)\n",
    "    bais_results['RMSE'].append(RMSE(R, R_pred, testing))"
   ]
  },
  {
   "cell_type": "code",
   "execution_count": 112,
   "metadata": {},
   "outputs": [],
   "source": [
    "bais_results_df = pd.DataFrame(bais_results)"
   ]
  },
  {
   "cell_type": "code",
   "execution_count": 132,
   "metadata": {},
   "outputs": [
    {
     "data": {
      "text/html": [
       "<div>\n",
       "<style scoped>\n",
       "    .dataframe tbody tr th:only-of-type {\n",
       "        vertical-align: middle;\n",
       "    }\n",
       "\n",
       "    .dataframe tbody tr th {\n",
       "        vertical-align: top;\n",
       "    }\n",
       "\n",
       "    .dataframe thead th {\n",
       "        text-align: right;\n",
       "    }\n",
       "</style>\n",
       "<table border=\"1\" class=\"dataframe\">\n",
       "  <thead>\n",
       "    <tr style=\"text-align: right;\">\n",
       "      <th></th>\n",
       "      <th>reg</th>\n",
       "      <th>features</th>\n",
       "      <th>RMSE</th>\n",
       "    </tr>\n",
       "  </thead>\n",
       "  <tbody>\n",
       "    <tr>\n",
       "      <th>14</th>\n",
       "      <td>0.15</td>\n",
       "      <td>100</td>\n",
       "      <td>0.854609</td>\n",
       "    </tr>\n",
       "    <tr>\n",
       "      <th>15</th>\n",
       "      <td>0.15</td>\n",
       "      <td>150</td>\n",
       "      <td>0.854882</td>\n",
       "    </tr>\n",
       "    <tr>\n",
       "      <th>13</th>\n",
       "      <td>0.15</td>\n",
       "      <td>50</td>\n",
       "      <td>0.855451</td>\n",
       "    </tr>\n",
       "    <tr>\n",
       "      <th>26</th>\n",
       "      <td>0.10</td>\n",
       "      <td>100</td>\n",
       "      <td>0.855586</td>\n",
       "    </tr>\n",
       "    <tr>\n",
       "      <th>16</th>\n",
       "      <td>0.15</td>\n",
       "      <td>200</td>\n",
       "      <td>0.856411</td>\n",
       "    </tr>\n",
       "    <tr>\n",
       "      <th>28</th>\n",
       "      <td>0.10</td>\n",
       "      <td>200</td>\n",
       "      <td>0.857085</td>\n",
       "    </tr>\n",
       "    <tr>\n",
       "      <th>25</th>\n",
       "      <td>0.10</td>\n",
       "      <td>50</td>\n",
       "      <td>0.857327</td>\n",
       "    </tr>\n",
       "    <tr>\n",
       "      <th>27</th>\n",
       "      <td>0.10</td>\n",
       "      <td>150</td>\n",
       "      <td>0.858168</td>\n",
       "    </tr>\n",
       "    <tr>\n",
       "      <th>12</th>\n",
       "      <td>0.15</td>\n",
       "      <td>25</td>\n",
       "      <td>0.858217</td>\n",
       "    </tr>\n",
       "    <tr>\n",
       "      <th>24</th>\n",
       "      <td>0.10</td>\n",
       "      <td>25</td>\n",
       "      <td>0.859957</td>\n",
       "    </tr>\n",
       "    <tr>\n",
       "      <th>20</th>\n",
       "      <td>0.20</td>\n",
       "      <td>100</td>\n",
       "      <td>0.860638</td>\n",
       "    </tr>\n",
       "    <tr>\n",
       "      <th>18</th>\n",
       "      <td>0.20</td>\n",
       "      <td>25</td>\n",
       "      <td>0.861346</td>\n",
       "    </tr>\n",
       "    <tr>\n",
       "      <th>19</th>\n",
       "      <td>0.20</td>\n",
       "      <td>50</td>\n",
       "      <td>0.861781</td>\n",
       "    </tr>\n",
       "    <tr>\n",
       "      <th>21</th>\n",
       "      <td>0.20</td>\n",
       "      <td>150</td>\n",
       "      <td>0.862050</td>\n",
       "    </tr>\n",
       "    <tr>\n",
       "      <th>11</th>\n",
       "      <td>0.15</td>\n",
       "      <td>5</td>\n",
       "      <td>0.862984</td>\n",
       "    </tr>\n",
       "    <tr>\n",
       "      <th>22</th>\n",
       "      <td>0.20</td>\n",
       "      <td>200</td>\n",
       "      <td>0.863826</td>\n",
       "    </tr>\n",
       "    <tr>\n",
       "      <th>17</th>\n",
       "      <td>0.20</td>\n",
       "      <td>5</td>\n",
       "      <td>0.869930</td>\n",
       "    </tr>\n",
       "    <tr>\n",
       "      <th>23</th>\n",
       "      <td>0.10</td>\n",
       "      <td>5</td>\n",
       "      <td>0.873021</td>\n",
       "    </tr>\n",
       "  </tbody>\n",
       "</table>\n",
       "</div>"
      ],
      "text/plain": [
       "     reg  features      RMSE\n",
       "14  0.15       100  0.854609\n",
       "15  0.15       150  0.854882\n",
       "13  0.15        50  0.855451\n",
       "26  0.10       100  0.855586\n",
       "16  0.15       200  0.856411\n",
       "28  0.10       200  0.857085\n",
       "25  0.10        50  0.857327\n",
       "27  0.10       150  0.858168\n",
       "12  0.15        25  0.858217\n",
       "24  0.10        25  0.859957\n",
       "20  0.20       100  0.860638\n",
       "18  0.20        25  0.861346\n",
       "19  0.20        50  0.861781\n",
       "21  0.20       150  0.862050\n",
       "11  0.15         5  0.862984\n",
       "22  0.20       200  0.863826\n",
       "17  0.20         5  0.869930\n",
       "23  0.10         5  0.873021"
      ]
     },
     "execution_count": 132,
     "metadata": {},
     "output_type": "execute_result"
    }
   ],
   "source": [
    "bais_results_df.sort_values('RMSE')"
   ]
  },
  {
   "cell_type": "code",
   "execution_count": 124,
   "metadata": {},
   "outputs": [
    {
     "data": {
      "text/html": [
       "<div>\n",
       "<style scoped>\n",
       "    .dataframe tbody tr th:only-of-type {\n",
       "        vertical-align: middle;\n",
       "    }\n",
       "\n",
       "    .dataframe tbody tr th {\n",
       "        vertical-align: top;\n",
       "    }\n",
       "\n",
       "    .dataframe thead th {\n",
       "        text-align: right;\n",
       "    }\n",
       "</style>\n",
       "<table border=\"1\" class=\"dataframe\">\n",
       "  <thead>\n",
       "    <tr style=\"text-align: right;\">\n",
       "      <th>features</th>\n",
       "      <th>5</th>\n",
       "      <th>25</th>\n",
       "      <th>50</th>\n",
       "      <th>100</th>\n",
       "      <th>150</th>\n",
       "      <th>200</th>\n",
       "    </tr>\n",
       "    <tr>\n",
       "      <th>reg</th>\n",
       "      <th></th>\n",
       "      <th></th>\n",
       "      <th></th>\n",
       "      <th></th>\n",
       "      <th></th>\n",
       "      <th></th>\n",
       "    </tr>\n",
       "  </thead>\n",
       "  <tbody>\n",
       "    <tr>\n",
       "      <th>0.10</th>\n",
       "      <td>0.873021</td>\n",
       "      <td>0.859957</td>\n",
       "      <td>0.857327</td>\n",
       "      <td>0.855586</td>\n",
       "      <td>0.858168</td>\n",
       "      <td>0.857085</td>\n",
       "    </tr>\n",
       "    <tr>\n",
       "      <th>0.15</th>\n",
       "      <td>0.862984</td>\n",
       "      <td>0.858217</td>\n",
       "      <td>0.855451</td>\n",
       "      <td>0.854609</td>\n",
       "      <td>0.854882</td>\n",
       "      <td>0.856411</td>\n",
       "    </tr>\n",
       "    <tr>\n",
       "      <th>0.20</th>\n",
       "      <td>0.869930</td>\n",
       "      <td>0.861346</td>\n",
       "      <td>0.861781</td>\n",
       "      <td>0.860638</td>\n",
       "      <td>0.862050</td>\n",
       "      <td>0.863826</td>\n",
       "    </tr>\n",
       "  </tbody>\n",
       "</table>\n",
       "</div>"
      ],
      "text/plain": [
       "features       5         25        50        100       150       200\n",
       "reg                                                                 \n",
       "0.10      0.873021  0.859957  0.857327  0.855586  0.858168  0.857085\n",
       "0.15      0.862984  0.858217  0.855451  0.854609  0.854882  0.856411\n",
       "0.20      0.869930  0.861346  0.861781  0.860638  0.862050  0.863826"
      ]
     },
     "execution_count": 124,
     "metadata": {},
     "output_type": "execute_result"
    }
   ],
   "source": [
    "bais_results_df.pivot_table(index='reg', columns='features', values='RMSE')"
   ]
  },
  {
   "cell_type": "code",
   "execution_count": 129,
   "metadata": {},
   "outputs": [
    {
     "data": {
      "image/png": "[encoded data removed]",
      "text/plain": [
       "<Figure size 432x288 with 1 Axes>"
      ]
     },
     "metadata": {
      "needs_background": "light"
     },
     "output_type": "display_data"
    }
   ],
   "source": [
    "reg_values = bais_results_df['reg'].unique()\n",
    "feature_values = bais_results_df['features'].unique()\n",
    "\n",
    "for reg in reg_values:\n",
    "    data = bais_results_df[bais_results_df['reg'] == reg]\n",
    "\n",
    "    plt.plot(data['features'], data['RMSE'], label=reg)\n",
    "    \n",
    "plt.legend( title='Regularization Term')\n",
    "\n",
    "plt.title('Matrix Factorization with Bias Results')\n",
    "plt.xlabel('Latent Features', size=12)\n",
    "plt.ylabel('Root Mean Squared Error')\n",
    "\n",
    "plt.xticks(np.arange(min(feature_values), max(feature_values)+1, 15))\n",
    "\n",
    "plt.show()"
   ]
  },
  {
   "cell_type": "code",
   "execution_count": 51,
   "metadata": {},
   "outputs": [],
   "source": []
  }
 ],
 "metadata": {
  "kernelspec": {
   "display_name": "Python 3",
   "language": "python",
   "name": "python3"
  },
  "language_info": {
   "codemirror_mode": {
    "name": "ipython",
    "version": 3
   },
   "file_extension": ".py",
   "mimetype": "text/x-python",
   "name": "python",
   "nbconvert_exporter": "python",
   "pygments_lexer": "ipython3",
   "version": "3.8.3"
  }
 },
 "nbformat": 4,
 "nbformat_minor": 4
}
