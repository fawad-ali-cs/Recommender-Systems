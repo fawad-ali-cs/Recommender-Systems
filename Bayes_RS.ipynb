{
 "cells": [
  {
   "cell_type": "code",
   "execution_count": 1,
   "metadata": {},
   "outputs": [],
   "source": [
    "import pandas as pd\n",
    "\n",
    "from functions import train_test, RMSE, MAE"
   ]
  },
  {
   "cell_type": "code",
   "execution_count": 2,
   "metadata": {},
   "outputs": [],
   "source": [
    "def naive_bayes(ratings, movies, genre_list):\n",
    "    genre_length = len(genre_list)\n",
    "    \n",
    "    scores = [i/2 for i in range(1,11)]\n",
    "    user_rating_count = {}\n",
    "\n",
    "    for index, row in ratings.iterrows():\n",
    "        score_counts = []\n",
    "\n",
    "        for score in scores:\n",
    "            score_counts.append(len(row[row==score]))\n",
    "\n",
    "        user_rating_count[index] = score_counts\n",
    "    \n",
    "    rating_count_df = pd.DataFrame(user_rating_count, index=scores)\n",
    "    prior_prob = ((rating_count_df+genre_length)/rating_count_df.sum()).T\n",
    "    \n",
    "    genre_index = {}\n",
    "    for genre in genre_list:\n",
    "        genre_index[genre] = list(movies[movies['genres'].str.contains(genre)]['movieId'].astype('str'))\n",
    "    \n",
    "    cond_prob = {}\n",
    "\n",
    "    for index, row in ratings.iterrows():\n",
    "        cond_df = pd.DataFrame([], index=scores)\n",
    "    \n",
    "        for genre in genre_list:\n",
    "            sub_row = row[genre_index[genre]]\n",
    "            score_count = []\n",
    "\n",
    "            for s in scores:\n",
    "                score_count.append(len(sub_row[sub_row == s]))\n",
    "\n",
    "            cond_df[genre] = score_count\n",
    "        \n",
    "        cond_prob[index] = ((cond_df + 1).T/(rating_count_df[index]+genre_length)).T\n",
    "            \n",
    "            \n",
    "    return prior_prob, cond_prob"
   ]
  },
  {
   "cell_type": "code",
   "execution_count": 3,
   "metadata": {},
   "outputs": [],
   "source": [
    "def naive_bayes_predict(prior_prob, cond_prob, movies, genre_list, values):\n",
    "    scores = [i/2 for i in range(1,11)]\n",
    "    \n",
    "    prediction_list = []\n",
    "    \n",
    "    for u,i in values:\n",
    "        prediction = scores[0]\n",
    "        best_prob = 0\n",
    "        movie_genre = movies[movies['movieId'] == int(i)]['genres'].iloc[0].split('|')\n",
    "        \n",
    "        for rating in scores:\n",
    "            current_prob = prior_prob.loc[u, rating]\n",
    "            \n",
    "            for genre in movie_genre:\n",
    "                if genre in genre_list:\n",
    "                    current_prob *= cond_prob[u].loc[rating, genre]\n",
    "             \n",
    "            if current_prob > best_prob:\n",
    "                best_prob = current_prob\n",
    "                \n",
    "                prediction = rating\n",
    "        \n",
    "        prediction_list.append(prediction)\n",
    "    \n",
    "    return prediction_list"
   ]
  },
  {
   "cell_type": "code",
   "execution_count": 4,
   "metadata": {},
   "outputs": [],
   "source": [
    "movies = pd.read_csv('ml-latest-small/movies.csv')\n",
    "ratings = pd.read_csv('data/user_rating_pt.csv')\n",
    "\n",
    "columns = ratings.columns\n",
    "movies=movies[movies['movieId'].isin(columns)]"
   ]
  },
  {
   "cell_type": "code",
   "execution_count": 5,
   "metadata": {},
   "outputs": [],
   "source": [
    "known = []\n",
    "\n",
    "columns = list(ratings.columns)\n",
    "index = list(ratings.index)\n",
    "\n",
    "for u in index:\n",
    "    for i in columns:\n",
    "        if ratings.loc[u,i] > 0:\n",
    "            known.append((u, i))"
   ]
  },
  {
   "cell_type": "code",
   "execution_count": 6,
   "metadata": {},
   "outputs": [],
   "source": [
    "training, testing = train_test(known)"
   ]
  },
  {
   "cell_type": "code",
   "execution_count": 7,
   "metadata": {},
   "outputs": [],
   "source": [
    "ratings_training = ratings.copy()\n",
    "\n",
    "for u,i in testing:\n",
    "    ratings_training.loc[u,i] = 0"
   ]
  },
  {
   "cell_type": "code",
   "execution_count": 8,
   "metadata": {},
   "outputs": [],
   "source": [
    "genre_list = []\n",
    "\n",
    "for index, row in movies.iterrows():\n",
    "    genres = row['genres'].split('|')\n",
    "    \n",
    "    for g in genres:\n",
    "        if g not in genre_list:\n",
    "            genre_list.append(g)"
   ]
  },
  {
   "cell_type": "code",
   "execution_count": 9,
   "metadata": {},
   "outputs": [
    {
     "name": "stderr",
     "output_type": "stream",
     "text": [
      "/Users/fawadali/anaconda3/lib/python3.8/site-packages/pandas/core/strings.py:1954: UserWarning: This pattern has match groups. To actually get the groups, use str.extract.\n",
      "  return func(self, *args, **kwargs)\n"
     ]
    }
   ],
   "source": [
    "prior_prob, cond_prob = naive_bayes(ratings_training, movies, genre_list)"
   ]
  },
  {
   "cell_type": "code",
   "execution_count": 10,
   "metadata": {},
   "outputs": [],
   "source": [
    "rating_pred = naive_bayes_predict(prior_prob, cond_prob, movies, genre_list, testing)"
   ]
  },
  {
   "cell_type": "code",
   "execution_count": 11,
   "metadata": {},
   "outputs": [],
   "source": [
    "test_ratings = []\n",
    "for u,i in testing:\n",
    "    test_ratings.append(ratings.loc[u,i])"
   ]
  },
  {
   "cell_type": "code",
   "execution_count": 14,
   "metadata": {},
   "outputs": [
    {
     "data": {
      "text/plain": [
       "1.0694995715743782"
      ]
     },
     "execution_count": 14,
     "metadata": {},
     "output_type": "execute_result"
    }
   ],
   "source": [
    "error = 0\n",
    "for ind in range(len(rating_pred)):\n",
    "    error += (rating_pred[ind] - test_ratings[ind])**2\n",
    "\n",
    "(error/len(rating_pred))**.5"
   ]
  },
  {
   "cell_type": "code",
   "execution_count": null,
   "metadata": {},
   "outputs": [],
   "source": []
  }
 ],
 "metadata": {
  "kernelspec": {
   "display_name": "Python 3",
   "language": "python",
   "name": "python3"
  },
  "language_info": {
   "codemirror_mode": {
    "name": "ipython",
    "version": 3
   },
   "file_extension": ".py",
   "mimetype": "text/x-python",
   "name": "python",
   "nbconvert_exporter": "python",
   "pygments_lexer": "ipython3",
   "version": "3.8.3"
  }
 },
 "nbformat": 4,
 "nbformat_minor": 4
}
