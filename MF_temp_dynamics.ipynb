{
 "cells": [
  {
   "cell_type": "code",
   "execution_count": 42,
   "metadata": {},
   "outputs": [],
   "source": [
    "import pandas as pd\n",
    "import numpy as np\n",
    "import matplotlib.pyplot as plt\n",
    "\n",
    "from functions import train_test, RMSE, MAE"
   ]
  },
  {
   "cell_type": "code",
   "execution_count": 4,
   "metadata": {},
   "outputs": [],
   "source": [
    "def TD_MF(R, training_values, time_matrix, days=365, latent_features=10, steps=100, alpha=0.01, reg=0.15):\n",
    "    min_time = time_matrix[time_matrix > 0].reshape(-1,).min()\n",
    "    time_index = time_matrix - min_time\n",
    "    time_index = time_index//(days*24*3600)\n",
    "    time_index[time_index < 0] = -1\n",
    "    time_index = time_index.astype(int)\n",
    "    \n",
    "    list_size = time_index.max() + 1 \n",
    "    \n",
    "    total_rating = 0\n",
    "    for u,i in training_values:\n",
    "        total_rating += R[u, i]\n",
    "    \n",
    "    avg_rating = total_rating/len(training_values)\n",
    "    \n",
    "    P = [np.random.rand(R.shape[0], latent_features) for i in range(list_size)]\n",
    "    Q = np.random.rand(R.shape[1], latent_features)\n",
    "    \n",
    "    bias_user = [np.random.rand(R.shape[0]) for _ in range(list_size)]\n",
    "    bias_movie = [np.random.rand(R.shape[1]) for _ in range(list_size)]\n",
    "    \n",
    "    for _ in range(steps):\n",
    "        for u,i in training_values:\n",
    "            ind = time_index[u,i]\n",
    "\n",
    "            e = R[u, i] - np.dot(P[ind][u], Q[i]) - avg_rating - bias_user[ind][u] - bias_movie[ind][i]\n",
    "\n",
    "            P[ind][u] = P[ind][u] + alpha*(e*Q[i] - reg*P[ind][u])\n",
    "            Q[i] = Q[i] + alpha*(e*P[ind][u] - reg*Q[i])\n",
    "            bias_user[ind][u] = bias_user[ind][u] + alpha*(e - reg*bias_user[ind][u])\n",
    "            bias_movie[ind][i] = bias_movie[ind][i] + alpha*(e - reg*bias_movie[ind][i])\n",
    "    \n",
    "    R_pred = []\n",
    "    \n",
    "    for ind in range(list_size):\n",
    "        R_pred.append(np.dot(P[ind],Q.T) + avg_rating + bias_user[ind].reshape(-1,1) + bias_movie[ind].reshape(1,-1))\n",
    "    \n",
    "    return R_pred, time_index"
   ]
  },
  {
   "cell_type": "code",
   "execution_count": 25,
   "metadata": {},
   "outputs": [],
   "source": [
    "def build_matrix(R_pred, time_index):\n",
    "    R_ = np.zeros((time_index.shape[0], time_index.shape[1]))\n",
    "\n",
    "    for u in range(time_index.shape[0]):\n",
    "        for i in range(time_index.shape[1]):\n",
    "            ind = time_index[u,i]\n",
    "\n",
    "            if ind != -1:\n",
    "                R_[u, i] = R_pred[ind][u, i]\n",
    "    \n",
    "    return R_"
   ]
  },
  {
   "cell_type": "code",
   "execution_count": 5,
   "metadata": {},
   "outputs": [],
   "source": [
    "time_df = pd.read_csv('data/rating_time.csv')\n",
    "time_data= np.array(time_df)\n",
    "\n",
    "ratings_df = pd.read_csv('data/user_rating_pt.csv')\n",
    "R = np.array(ratings_df)"
   ]
  },
  {
   "cell_type": "code",
   "execution_count": 6,
   "metadata": {},
   "outputs": [],
   "source": [
    "known = []\n",
    "for u in range(R.shape[0]):\n",
    "    for i in range(R.shape[1]):\n",
    "        if R[u,i] > 0:\n",
    "            known.append((u, i))\n",
    "\n",
    "training, testing = train_test(known)"
   ]
  },
  {
   "cell_type": "code",
   "execution_count": 22,
   "metadata": {},
   "outputs": [],
   "source": [
    "R_pred, time_index = TD_MF(R, training, time_data, latent_features=15, days=100, steps=100)"
   ]
  },
  {
   "cell_type": "code",
   "execution_count": 27,
   "metadata": {},
   "outputs": [
    {
     "data": {
      "text/plain": [
       "0.949289045526049"
      ]
     },
     "execution_count": 27,
     "metadata": {},
     "output_type": "execute_result"
    }
   ],
   "source": [
    "RMSE(R, R1, testing)"
   ]
  },
  {
   "cell_type": "code",
   "execution_count": 28,
   "metadata": {},
   "outputs": [
    {
     "name": "stdout",
     "output_type": "stream",
     "text": [
      "0.8614970954271876\n",
      "0.8774211743176218\n",
      "0.8978633095257559\n"
     ]
    }
   ],
   "source": [
    "feature_list = [15, 25, 50, 100, 150]\n",
    "year_list = [12, 6, 3]\n",
    "\n",
    "RSME_values = {}\n",
    "\n",
    "for year in year_list:\n",
    "    RSME_list = []\n",
    "    \n",
    "    for feature in feature_list:\n",
    "        R_pred, time_index = TD_MF(R, training, time_data, latent_features=feature, days=int(year*365))\n",
    "        R_ = build_matrix(R_pred, time_index)\n",
    "        \n",
    "        RMSE_val = RMSE(R, R_, testing)\n",
    "        RSME_list.append(RMSE_val)\n",
    "    \n",
    "    RSME_values[year] = RSME_list\n",
    "    print(RMSE_val)"
   ]
  },
  {
   "cell_type": "code",
   "execution_count": 31,
   "metadata": {},
   "outputs": [
    {
     "name": "stdout",
     "output_type": "stream",
     "text": [
      "0.9357885834372384\n",
      "0.9997595297569077\n",
      "1.088019378808346\n"
     ]
    }
   ],
   "source": [
    "year_list2 = [1, .5, .25]\n",
    "\n",
    "for year in year_list2:\n",
    "    RSME_list = []\n",
    "    \n",
    "    for feature in feature_list:\n",
    "        R_pred, time_index = TD_MF(R, training, time_data, latent_features=feature, days=int(year*365))\n",
    "        R_ = build_matrix(R_pred, time_index)\n",
    "        \n",
    "        RMSE_val = RMSE(R, R_, testing)\n",
    "        RSME_list.append(RMSE_val)\n",
    "    \n",
    "    RSME_values[year] = RSME_list\n",
    "    print(RMSE_val)"
   ]
  },
  {
   "cell_type": "code",
   "execution_count": 37,
   "metadata": {},
   "outputs": [
    {
     "data": {
      "text/html": [
       "<div>\n",
       "<style scoped>\n",
       "    .dataframe tbody tr th:only-of-type {\n",
       "        vertical-align: middle;\n",
       "    }\n",
       "\n",
       "    .dataframe tbody tr th {\n",
       "        vertical-align: top;\n",
       "    }\n",
       "\n",
       "    .dataframe thead th {\n",
       "        text-align: right;\n",
       "    }\n",
       "</style>\n",
       "<table border=\"1\" class=\"dataframe\">\n",
       "  <thead>\n",
       "    <tr style=\"text-align: right;\">\n",
       "      <th></th>\n",
       "      <th>12.00</th>\n",
       "      <th>6.00</th>\n",
       "      <th>3.00</th>\n",
       "      <th>1.00</th>\n",
       "      <th>0.50</th>\n",
       "      <th>0.25</th>\n",
       "    </tr>\n",
       "  </thead>\n",
       "  <tbody>\n",
       "    <tr>\n",
       "      <th>15</th>\n",
       "      <td>0.864374</td>\n",
       "      <td>0.875123</td>\n",
       "      <td>0.898168</td>\n",
       "      <td>0.923618</td>\n",
       "      <td>0.938534</td>\n",
       "      <td>0.953505</td>\n",
       "    </tr>\n",
       "    <tr>\n",
       "      <th>25</th>\n",
       "      <td>0.861997</td>\n",
       "      <td>0.876420</td>\n",
       "      <td>0.893915</td>\n",
       "      <td>0.926467</td>\n",
       "      <td>0.941382</td>\n",
       "      <td>0.954563</td>\n",
       "    </tr>\n",
       "    <tr>\n",
       "      <th>50</th>\n",
       "      <td>0.858889</td>\n",
       "      <td>0.872359</td>\n",
       "      <td>0.892044</td>\n",
       "      <td>0.926040</td>\n",
       "      <td>0.949855</td>\n",
       "      <td>0.975713</td>\n",
       "    </tr>\n",
       "    <tr>\n",
       "      <th>100</th>\n",
       "      <td>0.861654</td>\n",
       "      <td>0.875501</td>\n",
       "      <td>0.897143</td>\n",
       "      <td>0.928172</td>\n",
       "      <td>0.976540</td>\n",
       "      <td>1.023292</td>\n",
       "    </tr>\n",
       "    <tr>\n",
       "      <th>150</th>\n",
       "      <td>0.861497</td>\n",
       "      <td>0.877421</td>\n",
       "      <td>0.897863</td>\n",
       "      <td>0.935789</td>\n",
       "      <td>0.999760</td>\n",
       "      <td>1.088019</td>\n",
       "    </tr>\n",
       "  </tbody>\n",
       "</table>\n",
       "</div>"
      ],
      "text/plain": [
       "        12.00     6.00      3.00      1.00      0.50      0.25 \n",
       "15   0.864374  0.875123  0.898168  0.923618  0.938534  0.953505\n",
       "25   0.861997  0.876420  0.893915  0.926467  0.941382  0.954563\n",
       "50   0.858889  0.872359  0.892044  0.926040  0.949855  0.975713\n",
       "100  0.861654  0.875501  0.897143  0.928172  0.976540  1.023292\n",
       "150  0.861497  0.877421  0.897863  0.935789  0.999760  1.088019"
      ]
     },
     "execution_count": 37,
     "metadata": {},
     "output_type": "execute_result"
    }
   ],
   "source": [
    "RMSE_df = pd.DataFrame(RSME_values, index=feature_list)\n",
    "\n",
    "RMSE_df"
   ]
  },
  {
   "cell_type": "code",
   "execution_count": 54,
   "metadata": {},
   "outputs": [
    {
     "data": {
      "image/png": "[encoded data removed]",
      "text/plain": [
       "<Figure size 432x288 with 1 Axes>"
      ]
     },
     "metadata": {
      "needs_background": "light"
     },
     "output_type": "display_data"
    }
   ],
   "source": [
    "min_values = RMSE_df.min().sort_index()\n",
    "year_index = min_values.index.astype('str')\n",
    "\n",
    "plt.bar(year_index, min_values, color='red')\n",
    "\n",
    "plt.title(\"Matrix Factorization with Temporal Dynamics\", size=12)\n",
    "plt.xlabel(\"Year Splits\", size=12)\n",
    "plt.ylabel(\"RMSE\", size=12)\n",
    "\n",
    "plt.show()"
   ]
  },
  {
   "cell_type": "code",
   "execution_count": 40,
   "metadata": {},
   "outputs": [
    {
     "data": {
      "text/plain": [
       "12.00    0.864374\n",
       "6.00     0.875123\n",
       "3.00     0.898168\n",
       "1.00     0.923618\n",
       "0.50     0.938534\n",
       "0.25     0.953505\n",
       "Name: 15, dtype: float64"
      ]
     },
     "execution_count": 40,
     "metadata": {},
     "output_type": "execute_result"
    }
   ],
   "source": [
    "RMSE_df.loc[15,]"
   ]
  },
  {
   "cell_type": "code",
   "execution_count": 9,
   "metadata": {},
   "outputs": [
    {
     "name": "stdout",
     "output_type": "stream",
     "text": [
      "0 : 42060\n",
      "1 : 38862\n",
      "2 : 19914\n"
     ]
    }
   ],
   "source": [
    "min_time = time_data[time_data>0].reshape(-1,).min()\n",
    "td = time_data - min_time\n",
    "td = td//(3650*24*3600) #4272\n",
    "td[td < 0] = -1\n",
    "\n",
    "max_ind = int(td.reshape(-1,).max())\n",
    "for ind in range(max_ind + 1):\n",
    "    print(ind, \":\", np.sum(td == ind))"
   ]
  },
  {
   "cell_type": "code",
   "execution_count": null,
   "metadata": {},
   "outputs": [],
   "source": []
  }
 ],
 "metadata": {
  "kernelspec": {
   "display_name": "Python 3",
   "language": "python",
   "name": "python3"
  },
  "language_info": {
   "codemirror_mode": {
    "name": "ipython",
    "version": 3
   },
   "file_extension": ".py",
   "mimetype": "text/x-python",
   "name": "python",
   "nbconvert_exporter": "python",
   "pygments_lexer": "ipython3",
   "version": "3.8.3"
  }
 },
 "nbformat": 4,
 "nbformat_minor": 4
}
