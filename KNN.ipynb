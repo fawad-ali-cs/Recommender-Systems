{
 "cells": [
  {
   "cell_type": "code",
   "execution_count": 163,
   "metadata": {},
   "outputs": [],
   "source": [
    "import pandas as pd\n",
    "import numpy as np\n",
    "import matplotlib.pyplot as plt\n",
    "from functions import train_test\n",
    "\n",
    "from sklearn.metrics.pairwise import cosine_similarity"
   ]
  },
  {
   "cell_type": "code",
   "execution_count": 71,
   "metadata": {},
   "outputs": [],
   "source": [
    "rating_df = pd.read_csv('data/user_rating.csv')\n",
    "R = np.array(rating_df)"
   ]
  },
  {
   "cell_type": "code",
   "execution_count": 72,
   "metadata": {},
   "outputs": [
    {
     "data": {
      "text/plain": [
       "array([[4. , 0. , 4. , ..., 0. , 0. , 0. ],\n",
       "       [0. , 0. , 0. , ..., 0. , 0. , 0. ],\n",
       "       [0. , 0. , 0. , ..., 0. , 0. , 0. ],\n",
       "       ...,\n",
       "       [2.5, 2. , 2. , ..., 0. , 0. , 0. ],\n",
       "       [3. , 0. , 0. , ..., 0. , 0. , 0. ],\n",
       "       [5. , 0. , 0. , ..., 0. , 0. , 0. ]])"
      ]
     },
     "execution_count": 72,
     "metadata": {},
     "output_type": "execute_result"
    }
   ],
   "source": [
    "R"
   ]
  },
  {
   "cell_type": "code",
   "execution_count": 203,
   "metadata": {},
   "outputs": [],
   "source": [
    "known = []\n",
    "for u in range(R.shape[0]):\n",
    "    for i in range(R.shape[1]):\n",
    "        if R[u,i] > 0:\n",
    "            known.append((u, i))\n",
    "            \n",
    "training, testing = train_test(known)"
   ]
  },
  {
   "cell_type": "code",
   "execution_count": 207,
   "metadata": {},
   "outputs": [],
   "source": [
    "KNN_user_results = {'K':[], 'RMSE':[]}"
   ]
  },
  {
   "cell_type": "code",
   "execution_count": 231,
   "metadata": {},
   "outputs": [],
   "source": [
    "k=200\n",
    "\n",
    "unique_users = []\n",
    "for u, i in testing:\n",
    "    if u not in unique_users:\n",
    "        unique_users.append(u)\n",
    "\n",
    "R_copy = R.copy()\n",
    "for u, i in testing:\n",
    "    R_copy[u, i] = 0        \n",
    "    \n",
    "avg_user_rating = []\n",
    "for u in range(R_copy.shape[0]):\n",
    "    user_mean = R_copy[u,:][R_copy[u,:] > 0].mean()\n",
    "    avg_user_rating.append(user_mean)    \n",
    "\n",
    "cos_sim = cosine_similarity(R_copy)\n",
    "np.fill_diagonal(cos_sim, 0)    \n",
    "\n",
    "top_sim = {}\n",
    "for user in unique_users:\n",
    "    args = np.argpartition(-cos_sim[user], k)\n",
    "    top_sim[user] = {'similarities':cos_sim[user][args[:k]], 'args':args[:k]}\n",
    "\n",
    "predict_ratings = []\n",
    "for u, i in testing:\n",
    "    args = top_sim[u]['args']\n",
    "    sim_values = top_sim[u]['similarities']\n",
    "    \n",
    "    ratings = np.array([])\n",
    "    similarities = np.array([])\n",
    "    sim_user_index = np.array([])\n",
    "    \n",
    "    for user, sim in zip(args, sim_values):\n",
    "        if R_copy[user, i] != 0:\n",
    "            ratings = np.append(ratings, R_copy[user, i])\n",
    "            similarities = np.append(similarities, sim)\n",
    "            sim_user_index = np.append(sim_user_index, user)\n",
    "    \n",
    "    \n",
    "    sim_sum = 0\n",
    "    predict = avg_user_rating[u]\n",
    "    \n",
    "    if len(ratings) > 0:\n",
    "        for ind, user in enumerate(sim_user_index.astype(int)):\n",
    "            sim_sum += similarities[ind]*(avg_user_rating[user] - avg_user_rating[u])\n",
    "            \n",
    "        predict += (1/sum(similarities))*sim_sum\n",
    "    else:\n",
    "        predict = 0\n",
    "        \n",
    "    predict_ratings.append(predict)"
   ]
  },
  {
   "cell_type": "code",
   "execution_count": 232,
   "metadata": {},
   "outputs": [],
   "source": [
    "total = 0\n",
    "num_rated = 0\n",
    "\n",
    "for i in range(len(testing)):\n",
    "    if predict_ratings[i] != 0:\n",
    "        total += (R[testing[i]] - predict_ratings[i])**2\n",
    "        num_rated+=1\n",
    "        \n",
    "KNN_user_results['K'].append(k)\n",
    "KNN_user_results['RMSE'].append((total/num_rated)**.5)"
   ]
  },
  {
   "cell_type": "code",
   "execution_count": 233,
   "metadata": {},
   "outputs": [
    {
     "data": {
      "text/html": [
       "<div>\n",
       "<style scoped>\n",
       "    .dataframe tbody tr th:only-of-type {\n",
       "        vertical-align: middle;\n",
       "    }\n",
       "\n",
       "    .dataframe tbody tr th {\n",
       "        vertical-align: top;\n",
       "    }\n",
       "\n",
       "    .dataframe thead th {\n",
       "        text-align: right;\n",
       "    }\n",
       "</style>\n",
       "<table border=\"1\" class=\"dataframe\">\n",
       "  <thead>\n",
       "    <tr style=\"text-align: right;\">\n",
       "      <th></th>\n",
       "      <th>K</th>\n",
       "      <th>RMSE</th>\n",
       "    </tr>\n",
       "  </thead>\n",
       "  <tbody>\n",
       "    <tr>\n",
       "      <th>0</th>\n",
       "      <td>5</td>\n",
       "      <td>1.016112</td>\n",
       "    </tr>\n",
       "    <tr>\n",
       "      <th>1</th>\n",
       "      <td>10</td>\n",
       "      <td>1.019211</td>\n",
       "    </tr>\n",
       "    <tr>\n",
       "      <th>2</th>\n",
       "      <td>15</td>\n",
       "      <td>1.014429</td>\n",
       "    </tr>\n",
       "    <tr>\n",
       "      <th>3</th>\n",
       "      <td>25</td>\n",
       "      <td>1.013422</td>\n",
       "    </tr>\n",
       "    <tr>\n",
       "      <th>4</th>\n",
       "      <td>50</td>\n",
       "      <td>1.012270</td>\n",
       "    </tr>\n",
       "    <tr>\n",
       "      <th>5</th>\n",
       "      <td>75</td>\n",
       "      <td>1.012403</td>\n",
       "    </tr>\n",
       "    <tr>\n",
       "      <th>6</th>\n",
       "      <td>100</td>\n",
       "      <td>1.011807</td>\n",
       "    </tr>\n",
       "    <tr>\n",
       "      <th>7</th>\n",
       "      <td>150</td>\n",
       "      <td>1.010139</td>\n",
       "    </tr>\n",
       "    <tr>\n",
       "      <th>8</th>\n",
       "      <td>200</td>\n",
       "      <td>1.010480</td>\n",
       "    </tr>\n",
       "  </tbody>\n",
       "</table>\n",
       "</div>"
      ],
      "text/plain": [
       "     K      RMSE\n",
       "0    5  1.016112\n",
       "1   10  1.019211\n",
       "2   15  1.014429\n",
       "3   25  1.013422\n",
       "4   50  1.012270\n",
       "5   75  1.012403\n",
       "6  100  1.011807\n",
       "7  150  1.010139\n",
       "8  200  1.010480"
      ]
     },
     "execution_count": 233,
     "metadata": {},
     "output_type": "execute_result"
    }
   ],
   "source": [
    "KNN_user_df = pd.DataFrame(KNN_user_results)\n",
    "KNN_user_df"
   ]
  },
  {
   "cell_type": "code",
   "execution_count": 294,
   "metadata": {},
   "outputs": [
    {
     "data": {
      "image/png": "[encoded data removed]",
      "text/plain": [
       "<Figure size 432x288 with 1 Axes>"
      ]
     },
     "metadata": {
      "needs_background": "light"
     },
     "output_type": "display_data"
    }
   ],
   "source": [
    "plt.plot(KNN_user_df['K'], KNN_user_df['RMSE'], color='teal')\n",
    "\n",
    "plt.title('User-Based KNN Results')\n",
    "plt.xlabel('K value', size=12)\n",
    "plt.ylabel('Root Mean Squared Error')\n",
    "\n",
    "plt.savefig('graphs/KNN_user.png')\n",
    "\n",
    "plt.show()"
   ]
  },
  {
   "cell_type": "code",
   "execution_count": 29,
   "metadata": {},
   "outputs": [],
   "source": [
    "total = 0\n",
    "num_rated = 0\n",
    "\n",
    "for i in range(len(testing)):\n",
    "    if predict_ratings[i] != 0:\n",
    "        total += (R[testing[i]] - predict_ratings[i])**2\n",
    "        num_rated+=1"
   ]
  },
  {
   "cell_type": "code",
   "execution_count": 30,
   "metadata": {},
   "outputs": [
    {
     "data": {
      "text/plain": [
       "1.0158952550842248"
      ]
     },
     "execution_count": 30,
     "metadata": {},
     "output_type": "execute_result"
    }
   ],
   "source": [
    "(total/num_rated)**.5"
   ]
  },
  {
   "cell_type": "code",
   "execution_count": 256,
   "metadata": {},
   "outputs": [],
   "source": [
    "KNN_item_results = {'K':[], 'RMSE':[]}"
   ]
  },
  {
   "cell_type": "code",
   "execution_count": 287,
   "metadata": {},
   "outputs": [],
   "source": [
    "k=1500\n",
    "\n",
    "unique_items = []\n",
    "for u, i in testing:\n",
    "    if i not in unique_items:\n",
    "        unique_items.append(i)\n",
    "\n",
    "R_copy = R.copy()\n",
    "for u, i in testing:\n",
    "    R_copy[u, i] = 0        \n",
    "    \n",
    "avg_user_rating = []\n",
    "for u in range(R_copy.shape[0]):\n",
    "    user_mean = R_copy[u,:][R_copy[u,:] > 0].mean()\n",
    "    avg_user_rating.append(user_mean)    \n",
    "\n",
    "cos_sim = cosine_similarity(R_copy.T)\n",
    "np.fill_diagonal(cos_sim, 0)    \n",
    "\n",
    "top_sim = {}\n",
    "for item in unique_items:\n",
    "    args = np.argpartition(-cos_sim[item], k)\n",
    "    top_sim[item] = {'similarities':cos_sim[item][args[:k]], 'args':args[:k]}\n",
    "\n",
    "predict_ratings = []\n",
    "for u, i in testing:\n",
    "    args = top_sim[i]['args']\n",
    "    sim_values = top_sim[i]['similarities']\n",
    "    \n",
    "    ratings = np.array([])\n",
    "    similarities = np.array([])\n",
    "    sim_item_index = np.array([])\n",
    "    \n",
    "    for item, sim in zip(args, sim_values):\n",
    "        if R_copy[u, item] != 0:\n",
    "            ratings = np.append(ratings, R_copy[u, item])\n",
    "            similarities = np.append(similarities, sim)\n",
    "    \n",
    "    sim_sum = 0\n",
    "    predict = avg_user_rating[u]\n",
    "    if (len(ratings) > 0) and (sum(similarities)>0):\n",
    "        predict = sum(similarities*ratings)/sum(similarities)\n",
    "        \n",
    "    predict_ratings.append(predict)"
   ]
  },
  {
   "cell_type": "code",
   "execution_count": 288,
   "metadata": {},
   "outputs": [],
   "source": [
    "total = 0\n",
    "num_rated = 0\n",
    "\n",
    "for i in range(len(testing)):\n",
    "    if predict_ratings[i] != 0:\n",
    "        total += (R[testing[i]] - predict_ratings[i])**2\n",
    "        num_rated+=1\n",
    "        \n",
    "KNN_item_results['K'].append(k)\n",
    "KNN_item_results['RMSE'].append((total/num_rated)**.5)"
   ]
  },
  {
   "cell_type": "code",
   "execution_count": 289,
   "metadata": {},
   "outputs": [
    {
     "data": {
      "text/html": [
       "<div>\n",
       "<style scoped>\n",
       "    .dataframe tbody tr th:only-of-type {\n",
       "        vertical-align: middle;\n",
       "    }\n",
       "\n",
       "    .dataframe tbody tr th {\n",
       "        vertical-align: top;\n",
       "    }\n",
       "\n",
       "    .dataframe thead th {\n",
       "        text-align: right;\n",
       "    }\n",
       "</style>\n",
       "<table border=\"1\" class=\"dataframe\">\n",
       "  <thead>\n",
       "    <tr style=\"text-align: right;\">\n",
       "      <th></th>\n",
       "      <th>K</th>\n",
       "      <th>RMSE</th>\n",
       "    </tr>\n",
       "  </thead>\n",
       "  <tbody>\n",
       "    <tr>\n",
       "      <th>0</th>\n",
       "      <td>5</td>\n",
       "      <td>0.958991</td>\n",
       "    </tr>\n",
       "    <tr>\n",
       "      <th>1</th>\n",
       "      <td>25</td>\n",
       "      <td>0.928311</td>\n",
       "    </tr>\n",
       "    <tr>\n",
       "      <th>2</th>\n",
       "      <td>50</td>\n",
       "      <td>0.916762</td>\n",
       "    </tr>\n",
       "    <tr>\n",
       "      <th>3</th>\n",
       "      <td>100</td>\n",
       "      <td>0.902241</td>\n",
       "    </tr>\n",
       "    <tr>\n",
       "      <th>4</th>\n",
       "      <td>150</td>\n",
       "      <td>0.900540</td>\n",
       "    </tr>\n",
       "    <tr>\n",
       "      <th>5</th>\n",
       "      <td>250</td>\n",
       "      <td>0.897114</td>\n",
       "    </tr>\n",
       "    <tr>\n",
       "      <th>6</th>\n",
       "      <td>350</td>\n",
       "      <td>0.895210</td>\n",
       "    </tr>\n",
       "    <tr>\n",
       "      <th>7</th>\n",
       "      <td>500</td>\n",
       "      <td>0.889785</td>\n",
       "    </tr>\n",
       "    <tr>\n",
       "      <th>8</th>\n",
       "      <td>750</td>\n",
       "      <td>0.890082</td>\n",
       "    </tr>\n",
       "    <tr>\n",
       "      <th>9</th>\n",
       "      <td>1000</td>\n",
       "      <td>0.892950</td>\n",
       "    </tr>\n",
       "    <tr>\n",
       "      <th>10</th>\n",
       "      <td>1500</td>\n",
       "      <td>0.899701</td>\n",
       "    </tr>\n",
       "  </tbody>\n",
       "</table>\n",
       "</div>"
      ],
      "text/plain": [
       "       K      RMSE\n",
       "0      5  0.958991\n",
       "1     25  0.928311\n",
       "2     50  0.916762\n",
       "3    100  0.902241\n",
       "4    150  0.900540\n",
       "5    250  0.897114\n",
       "6    350  0.895210\n",
       "7    500  0.889785\n",
       "8    750  0.890082\n",
       "9   1000  0.892950\n",
       "10  1500  0.899701"
      ]
     },
     "execution_count": 289,
     "metadata": {},
     "output_type": "execute_result"
    }
   ],
   "source": [
    "KNN_item_df = pd.DataFrame(KNN_item_results)\n",
    "KNN_item_df"
   ]
  },
  {
   "cell_type": "code",
   "execution_count": 293,
   "metadata": {},
   "outputs": [
    {
     "data": {
      "image/png": "[encoded data removed]",
      "text/plain": [
       "<Figure size 432x288 with 1 Axes>"
      ]
     },
     "metadata": {
      "needs_background": "light"
     },
     "output_type": "display_data"
    }
   ],
   "source": [
    "plt.plot(KNN_item_df['K'], KNN_item_df['RMSE'], color='seagreen')\n",
    "\n",
    "plt.title('Item-Based KNN Results')\n",
    "plt.xlabel('K value', size=12)\n",
    "plt.ylabel('Root Mean Squared Error')\n",
    "\n",
    "plt.savefig('graphs/KNN_item.png')\n",
    "\n",
    "plt.show()"
   ]
  },
  {
   "cell_type": "code",
   "execution_count": null,
   "metadata": {},
   "outputs": [],
   "source": []
  }
 ],
 "metadata": {
  "kernelspec": {
   "display_name": "Python 3",
   "language": "python",
   "name": "python3"
  },
  "language_info": {
   "codemirror_mode": {
    "name": "ipython",
    "version": 3
   },
   "file_extension": ".py",
   "mimetype": "text/x-python",
   "name": "python",
   "nbconvert_exporter": "python",
   "pygments_lexer": "ipython3",
   "version": "3.8.3"
  }
 },
 "nbformat": 4,
 "nbformat_minor": 4
}
